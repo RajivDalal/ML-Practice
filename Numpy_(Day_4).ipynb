{
  "nbformat": 4,
  "nbformat_minor": 0,
  "metadata": {
    "colab": {
      "provenance": [],
      "authorship_tag": "ABX9TyObQy9HZF16i28p7/Swf6r8",
      "include_colab_link": true
    },
    "kernelspec": {
      "name": "python3",
      "display_name": "Python 3"
    },
    "language_info": {
      "name": "python"
    }
  },
  "cells": [
    {
      "cell_type": "markdown",
      "metadata": {
        "id": "view-in-github",
        "colab_type": "text"
      },
      "source": [
        "<a href=\"https://colab.research.google.com/github/RajivDalal/ML_practice/blob/main/Numpy_(Day_4).ipynb\" target=\"_parent\"><img src=\"https://colab.research.google.com/assets/colab-badge.svg\" alt=\"Open In Colab\"/></a>"
      ]
    },
    {
      "cell_type": "markdown",
      "source": [
        "# Numpy\n",
        "- Used for numerical operations\n",
        "- Provides multidimensional arrays"
      ],
      "metadata": {
        "id": "eB9joGxRQ-YQ"
      }
    },
    {
      "cell_type": "code",
      "execution_count": null,
      "metadata": {
        "id": "7JDnZDCiQ5cL"
      },
      "outputs": [],
      "source": [
        "import numpy as np"
      ]
    },
    {
      "cell_type": "markdown",
      "source": [
        "# Arrays\n",
        "- Have a single data type\n",
        "- Converts the rest of data to highest data type\n",
        "- Bool -> Int -> Float -> String\n",
        "- Faster than Python lists"
      ],
      "metadata": {
        "id": "Ma-Jy8XFbutI"
      }
    },
    {
      "cell_type": "code",
      "source": [
        "var = np.array([1,2,3,4])\n",
        "print(type(var))"
      ],
      "metadata": {
        "colab": {
          "base_uri": "https://localhost:8080/"
        },
        "id": "acUwrRJBeWaF",
        "outputId": "bde8450c-33ed-4ae5-edb8-1e8de8ffbca3"
      },
      "execution_count": null,
      "outputs": [
        {
          "output_type": "stream",
          "name": "stdout",
          "text": [
            "<class 'numpy.ndarray'>\n"
          ]
        }
      ]
    },
    {
      "cell_type": "code",
      "source": [
        "arr = np.array([1.,True])\n",
        "print(arr)"
      ],
      "metadata": {
        "colab": {
          "base_uri": "https://localhost:8080/"
        },
        "id": "kAKKJ5aAgZUU",
        "outputId": "53bcb193-f267-470c-faa8-18a5156afbbc"
      },
      "execution_count": null,
      "outputs": [
        {
          "output_type": "stream",
          "name": "stdout",
          "text": [
            "[1. 1.]\n"
          ]
        }
      ]
    },
    {
      "cell_type": "code",
      "source": [
        "a = np.array([1,2,3,4,5])\n",
        "print(a)\n",
        "print(a.ndim)\n",
        "print(a.dtype) #Returns the data type of array"
      ],
      "metadata": {
        "colab": {
          "base_uri": "https://localhost:8080/"
        },
        "id": "t5YNDMezbxS6",
        "outputId": "ec7f0126-bcb7-429c-955e-423c74f9f8cd"
      },
      "execution_count": null,
      "outputs": [
        {
          "output_type": "stream",
          "name": "stdout",
          "text": [
            "[1 2 3 4 5]\n",
            "1\n",
            "int64\n"
          ]
        }
      ]
    },
    {
      "cell_type": "code",
      "source": [
        "b = np.array([[1,2,3,4],[5,6,7,8]])\n",
        "print(b)\n",
        "print(b.ndim)"
      ],
      "metadata": {
        "colab": {
          "base_uri": "https://localhost:8080/"
        },
        "id": "9QTHV5DEb59O",
        "outputId": "a3d54cb1-e491-49f2-dd9b-52c2d6d40aa2"
      },
      "execution_count": null,
      "outputs": [
        {
          "output_type": "stream",
          "name": "stdout",
          "text": [
            "[[1 2 3 4]\n",
            " [5 6 7 8]]\n",
            "2\n"
          ]
        }
      ]
    },
    {
      "cell_type": "markdown",
      "source": [
        "# Numpy Functions\n",
        "- zeros: Creates an array of zeroes\n",
        "- ones: Creates an array of ones\n",
        "\n",
        "- argmax: Index position with max value\n",
        "- argmin: Index position with max value\n",
        "- argsort: Sorts based on index position\n",
        "\n",
        "- arange: Makes a"
      ],
      "metadata": {
        "id": "M6371dvPeo0D"
      }
    },
    {
      "cell_type": "code",
      "source": [
        "c = np.zeros(10)\n",
        "print(d)\n",
        "d = np.ones(5)\n",
        "print(e)"
      ],
      "metadata": {
        "colab": {
          "base_uri": "https://localhost:8080/"
        },
        "id": "OLwB1Ut6cS1m",
        "outputId": "03f113bf-df16-42d2-d96a-766799cd9fbc"
      },
      "execution_count": null,
      "outputs": [
        {
          "output_type": "stream",
          "name": "stdout",
          "text": [
            "[0. 0. 0. 0. 0. 0. 0. 0. 0. 0.]\n",
            "[1. 1. 1. 1. 1.]\n"
          ]
        }
      ]
    },
    {
      "cell_type": "code",
      "source": [
        "e = np.zeros((3,4,5))\n",
        "print(e)"
      ],
      "metadata": {
        "colab": {
          "base_uri": "https://localhost:8080/"
        },
        "id": "GV8MSRKtdQ8e",
        "outputId": "019166ad-271d-446e-ee28-7208e013bbbf"
      },
      "execution_count": null,
      "outputs": [
        {
          "output_type": "stream",
          "name": "stdout",
          "text": [
            "[[[0. 0. 0. 0. 0.]\n",
            "  [0. 0. 0. 0. 0.]\n",
            "  [0. 0. 0. 0. 0.]\n",
            "  [0. 0. 0. 0. 0.]]\n",
            "\n",
            " [[0. 0. 0. 0. 0.]\n",
            "  [0. 0. 0. 0. 0.]\n",
            "  [0. 0. 0. 0. 0.]\n",
            "  [0. 0. 0. 0. 0.]]\n",
            "\n",
            " [[0. 0. 0. 0. 0.]\n",
            "  [0. 0. 0. 0. 0.]\n",
            "  [0. 0. 0. 0. 0.]\n",
            "  [0. 0. 0. 0. 0.]]]\n"
          ]
        }
      ]
    },
    {
      "cell_type": "code",
      "source": [
        "f = np.ones((3,3,4,5))\n",
        "print(f)"
      ],
      "metadata": {
        "colab": {
          "base_uri": "https://localhost:8080/"
        },
        "id": "0i52bgmbd02P",
        "outputId": "5f2495bc-c4f8-479a-cb41-e7bed6e1d437"
      },
      "execution_count": null,
      "outputs": [
        {
          "output_type": "stream",
          "name": "stdout",
          "text": [
            "[[[[1. 1. 1. 1. 1.]\n",
            "   [1. 1. 1. 1. 1.]\n",
            "   [1. 1. 1. 1. 1.]\n",
            "   [1. 1. 1. 1. 1.]]\n",
            "\n",
            "  [[1. 1. 1. 1. 1.]\n",
            "   [1. 1. 1. 1. 1.]\n",
            "   [1. 1. 1. 1. 1.]\n",
            "   [1. 1. 1. 1. 1.]]\n",
            "\n",
            "  [[1. 1. 1. 1. 1.]\n",
            "   [1. 1. 1. 1. 1.]\n",
            "   [1. 1. 1. 1. 1.]\n",
            "   [1. 1. 1. 1. 1.]]]\n",
            "\n",
            "\n",
            " [[[1. 1. 1. 1. 1.]\n",
            "   [1. 1. 1. 1. 1.]\n",
            "   [1. 1. 1. 1. 1.]\n",
            "   [1. 1. 1. 1. 1.]]\n",
            "\n",
            "  [[1. 1. 1. 1. 1.]\n",
            "   [1. 1. 1. 1. 1.]\n",
            "   [1. 1. 1. 1. 1.]\n",
            "   [1. 1. 1. 1. 1.]]\n",
            "\n",
            "  [[1. 1. 1. 1. 1.]\n",
            "   [1. 1. 1. 1. 1.]\n",
            "   [1. 1. 1. 1. 1.]\n",
            "   [1. 1. 1. 1. 1.]]]\n",
            "\n",
            "\n",
            " [[[1. 1. 1. 1. 1.]\n",
            "   [1. 1. 1. 1. 1.]\n",
            "   [1. 1. 1. 1. 1.]\n",
            "   [1. 1. 1. 1. 1.]]\n",
            "\n",
            "  [[1. 1. 1. 1. 1.]\n",
            "   [1. 1. 1. 1. 1.]\n",
            "   [1. 1. 1. 1. 1.]\n",
            "   [1. 1. 1. 1. 1.]]\n",
            "\n",
            "  [[1. 1. 1. 1. 1.]\n",
            "   [1. 1. 1. 1. 1.]\n",
            "   [1. 1. 1. 1. 1.]\n",
            "   [1. 1. 1. 1. 1.]]]]\n"
          ]
        }
      ]
    },
    {
      "cell_type": "code",
      "source": [
        "var = np.array([10,40,25,20])\n",
        "print(var.size)"
      ],
      "metadata": {
        "colab": {
          "base_uri": "https://localhost:8080/"
        },
        "id": "BubM9F5-fFKy",
        "outputId": "c19c98b4-9aa9-4ce5-b844-8bb14236269b"
      },
      "execution_count": null,
      "outputs": [
        {
          "output_type": "stream",
          "name": "stdout",
          "text": [
            "4\n"
          ]
        }
      ]
    },
    {
      "cell_type": "code",
      "source": [
        "print(var.argmax())\n",
        "print(var.argmin())\n",
        "print(var.argsort())"
      ],
      "metadata": {
        "colab": {
          "base_uri": "https://localhost:8080/"
        },
        "id": "itItynwXfKiO",
        "outputId": "84630123-0245-4f6a-ee87-91a99e9c82f9"
      },
      "execution_count": null,
      "outputs": [
        {
          "output_type": "stream",
          "name": "stdout",
          "text": [
            "1\n",
            "0\n",
            "[0 3 2 1]\n"
          ]
        }
      ]
    },
    {
      "cell_type": "code",
      "source": [
        "#Indexing and slicing\n",
        "print(var[0])\n",
        "print(var[1:3])"
      ],
      "metadata": {
        "colab": {
          "base_uri": "https://localhost:8080/"
        },
        "id": "495_RyW5fU6R",
        "outputId": "6ab491b7-3a85-48b8-e5eb-cc9b383bbfa6"
      },
      "execution_count": null,
      "outputs": [
        {
          "output_type": "stream",
          "name": "stdout",
          "text": [
            "10\n",
            "[40 25]\n"
          ]
        }
      ]
    },
    {
      "cell_type": "code",
      "source": [
        "print(np.arange(15)) #end(excluded)\n",
        "print(np.arange(3,7)) #start,end(excluded)\n",
        "print(np.arange(0,100,10)) #start,end(excluded),step"
      ],
      "metadata": {
        "colab": {
          "base_uri": "https://localhost:8080/"
        },
        "id": "nTDbVNk7fes_",
        "outputId": "45ff7fdb-44e8-4269-c2fe-cca8077f177e"
      },
      "execution_count": null,
      "outputs": [
        {
          "output_type": "stream",
          "name": "stdout",
          "text": [
            "[ 0  1  2  3  4  5  6  7  8  9 10 11 12 13 14]\n",
            "[3 4 5 6]\n",
            "[ 0 10 20 30 40 50 60 70 80 90]\n"
          ]
        }
      ]
    },
    {
      "cell_type": "code",
      "source": [
        "a = np.arange(12)\n",
        "print(a.reshape(4,3))\n",
        "print(\"\\n\")\n",
        "print(a.reshape(2,2,3))"
      ],
      "metadata": {
        "colab": {
          "base_uri": "https://localhost:8080/"
        },
        "id": "8_aQHPWZhOqE",
        "outputId": "71d25d91-4621-421f-a965-793d19287b0d"
      },
      "execution_count": null,
      "outputs": [
        {
          "output_type": "stream",
          "name": "stdout",
          "text": [
            "[[ 0  1  2]\n",
            " [ 3  4  5]\n",
            " [ 6  7  8]\n",
            " [ 9 10 11]]\n",
            "\n",
            "\n",
            "[[[ 0  1  2]\n",
            "  [ 3  4  5]]\n",
            "\n",
            " [[ 6  7  8]\n",
            "  [ 9 10 11]]]\n"
          ]
        }
      ]
    },
    {
      "cell_type": "code",
      "source": [
        "x = [1,4,9,16,25]\n",
        "print(np.sqrt(x))\n",
        "print(np.log(x))\n",
        "print(np.exp(x))\n",
        "print(np.mean(x))"
      ],
      "metadata": {
        "colab": {
          "base_uri": "https://localhost:8080/"
        },
        "id": "23h2wY-7jrl4",
        "outputId": "4c79d3cb-8627-4410-800e-fa8ca2897c90"
      },
      "execution_count": null,
      "outputs": [
        {
          "output_type": "stream",
          "name": "stdout",
          "text": [
            "[1. 2. 3. 4. 5.]\n",
            "[0.         1.38629436 2.19722458 2.77258872 3.21887582]\n",
            "[2.71828183e+00 5.45981500e+01 8.10308393e+03 8.88611052e+06\n",
            " 7.20048993e+10]\n"
          ]
        }
      ]
    },
    {
      "cell_type": "code",
      "source": [
        "a1 = a.reshape(3,4)\n",
        "print(a1.T)"
      ],
      "metadata": {
        "colab": {
          "base_uri": "https://localhost:8080/"
        },
        "id": "Vy_2YGP9kYI7",
        "outputId": "e965b50e-c12b-42e8-e118-6fab1552089a"
      },
      "execution_count": null,
      "outputs": [
        {
          "output_type": "stream",
          "name": "stdout",
          "text": [
            "[[ 0  4  8]\n",
            " [ 1  5  9]\n",
            " [ 2  6 10]\n",
            " [ 3  7 11]]\n"
          ]
        }
      ]
    },
    {
      "cell_type": "code",
      "source": [
        "arr = np.array([10.8,3.50,7.4])\n",
        "print(arr)\n",
        "print(np.floor(arr))\n",
        "print(np.ceil(arr))\n",
        "print(np.round(arr))"
      ],
      "metadata": {
        "colab": {
          "base_uri": "https://localhost:8080/"
        },
        "id": "_Dc-befVke7I",
        "outputId": "1b5d22dc-8b2f-46dd-a5c2-3cc56e9e0469"
      },
      "execution_count": null,
      "outputs": [
        {
          "output_type": "stream",
          "name": "stdout",
          "text": [
            "[10.8  3.5  7.4]\n",
            "[10.  3.  7.]\n",
            "[11.  4.  8.]\n",
            "[11.  4.  7.]\n"
          ]
        }
      ]
    },
    {
      "cell_type": "markdown",
      "source": [
        "# Stacking\n",
        "- Joining\n",
        "- Two types  \n",
        "  - Vertical Stacking: No. of rows should be same\n",
        "  - Horizontal Stacking No. of columns should be same"
      ],
      "metadata": {
        "id": "7BXilFbwljSt"
      }
    },
    {
      "cell_type": "code",
      "source": [
        "arr1 = np.arange(10).reshape(2,5)\n",
        "arr2 = np.arange(20).reshape(4,5)\n",
        "print(arr1,arr2,sep=\"\\n\\n\",end=\"\\n\")\n",
        "\n",
        "arr3 = np.arange(10).reshape(5,2)\n",
        "arr4 = np.arange(20).reshape(5,4)\n",
        "print(arr3,arr4,sep=\"\\n\\n\")"
      ],
      "metadata": {
        "colab": {
          "base_uri": "https://localhost:8080/"
        },
        "id": "ANnbILgCl2Wj",
        "outputId": "52d25354-0066-4ba1-b6f2-0fcba6fa0666"
      },
      "execution_count": null,
      "outputs": [
        {
          "output_type": "stream",
          "name": "stdout",
          "text": [
            "[[0 1 2 3 4]\n",
            " [5 6 7 8 9]]\n",
            "\n",
            "[[ 0  1  2  3  4]\n",
            " [ 5  6  7  8  9]\n",
            " [10 11 12 13 14]\n",
            " [15 16 17 18 19]]\n",
            "[[0 1]\n",
            " [2 3]\n",
            " [4 5]\n",
            " [6 7]\n",
            " [8 9]]\n",
            "\n",
            "[[ 0  1  2  3]\n",
            " [ 4  5  6  7]\n",
            " [ 8  9 10 11]\n",
            " [12 13 14 15]\n",
            " [16 17 18 19]]\n"
          ]
        }
      ]
    },
    {
      "cell_type": "code",
      "source": [
        "#Vertical stacking\n",
        "np.vstack((arr1,arr2))"
      ],
      "metadata": {
        "colab": {
          "base_uri": "https://localhost:8080/"
        },
        "id": "0bGB-ZbsmCpg",
        "outputId": "5a389240-ac16-4e96-c4e7-56fec550b30c"
      },
      "execution_count": null,
      "outputs": [
        {
          "output_type": "execute_result",
          "data": {
            "text/plain": [
              "array([[ 0,  1,  2,  3,  4],\n",
              "       [ 5,  6,  7,  8,  9],\n",
              "       [ 0,  1,  2,  3,  4],\n",
              "       [ 5,  6,  7,  8,  9],\n",
              "       [10, 11, 12, 13, 14],\n",
              "       [15, 16, 17, 18, 19]])"
            ]
          },
          "metadata": {},
          "execution_count": 63
        }
      ]
    },
    {
      "cell_type": "code",
      "source": [
        "#Horizontal stacking\n",
        "np.hstack((arr3,arr4))"
      ],
      "metadata": {
        "colab": {
          "base_uri": "https://localhost:8080/"
        },
        "id": "RdoajMsQmXOb",
        "outputId": "fd96fa6d-2c8f-40ac-9a81-8f6b400b4af5"
      },
      "execution_count": null,
      "outputs": [
        {
          "output_type": "execute_result",
          "data": {
            "text/plain": [
              "array([[ 0,  1,  0,  1,  2,  3],\n",
              "       [ 2,  3,  4,  5,  6,  7],\n",
              "       [ 4,  5,  8,  9, 10, 11],\n",
              "       [ 6,  7, 12, 13, 14, 15],\n",
              "       [ 8,  9, 16, 17, 18, 19]])"
            ]
          },
          "metadata": {},
          "execution_count": 65
        }
      ]
    },
    {
      "cell_type": "markdown",
      "source": [
        "# Splitting\n",
        "- Two types  \n",
        "  - Vertical Splitting\n",
        "  - Horizontal Splitting"
      ],
      "metadata": {
        "id": "6Npngurhmy8_"
      }
    },
    {
      "cell_type": "code",
      "source": [
        "arr5 = np.arange(100).reshape(10,10)\n",
        "print(np.vsplit(arr5,2))\n",
        "print(np.hsplit(arr5,2))"
      ],
      "metadata": {
        "colab": {
          "base_uri": "https://localhost:8080/"
        },
        "id": "BfCoFmHnm7Wy",
        "outputId": "19f0d4a7-40bc-4e39-a4d0-1b6a521d82ed"
      },
      "execution_count": null,
      "outputs": [
        {
          "output_type": "stream",
          "name": "stdout",
          "text": [
            "[array([[ 0,  1,  2,  3,  4,  5,  6,  7,  8,  9],\n",
            "       [10, 11, 12, 13, 14, 15, 16, 17, 18, 19],\n",
            "       [20, 21, 22, 23, 24, 25, 26, 27, 28, 29],\n",
            "       [30, 31, 32, 33, 34, 35, 36, 37, 38, 39],\n",
            "       [40, 41, 42, 43, 44, 45, 46, 47, 48, 49]]), array([[50, 51, 52, 53, 54, 55, 56, 57, 58, 59],\n",
            "       [60, 61, 62, 63, 64, 65, 66, 67, 68, 69],\n",
            "       [70, 71, 72, 73, 74, 75, 76, 77, 78, 79],\n",
            "       [80, 81, 82, 83, 84, 85, 86, 87, 88, 89],\n",
            "       [90, 91, 92, 93, 94, 95, 96, 97, 98, 99]])]\n",
            "[array([[ 0,  1,  2,  3,  4],\n",
            "       [10, 11, 12, 13, 14],\n",
            "       [20, 21, 22, 23, 24],\n",
            "       [30, 31, 32, 33, 34],\n",
            "       [40, 41, 42, 43, 44],\n",
            "       [50, 51, 52, 53, 54],\n",
            "       [60, 61, 62, 63, 64],\n",
            "       [70, 71, 72, 73, 74],\n",
            "       [80, 81, 82, 83, 84],\n",
            "       [90, 91, 92, 93, 94]]), array([[ 5,  6,  7,  8,  9],\n",
            "       [15, 16, 17, 18, 19],\n",
            "       [25, 26, 27, 28, 29],\n",
            "       [35, 36, 37, 38, 39],\n",
            "       [45, 46, 47, 48, 49],\n",
            "       [55, 56, 57, 58, 59],\n",
            "       [65, 66, 67, 68, 69],\n",
            "       [75, 76, 77, 78, 79],\n",
            "       [85, 86, 87, 88, 89],\n",
            "       [95, 96, 97, 98, 99]])]\n"
          ]
        }
      ]
    },
    {
      "cell_type": "code",
      "source": [
        "#Linspace\n",
        "np.linspace(0,30,100)"
      ],
      "metadata": {
        "colab": {
          "base_uri": "https://localhost:8080/"
        },
        "id": "0v88IgDEnTQO",
        "outputId": "ebffa939-b65a-4e7c-9691-414f29bf401f"
      },
      "execution_count": null,
      "outputs": [
        {
          "output_type": "execute_result",
          "data": {
            "text/plain": [
              "array([ 0.        ,  0.3030303 ,  0.60606061,  0.90909091,  1.21212121,\n",
              "        1.51515152,  1.81818182,  2.12121212,  2.42424242,  2.72727273,\n",
              "        3.03030303,  3.33333333,  3.63636364,  3.93939394,  4.24242424,\n",
              "        4.54545455,  4.84848485,  5.15151515,  5.45454545,  5.75757576,\n",
              "        6.06060606,  6.36363636,  6.66666667,  6.96969697,  7.27272727,\n",
              "        7.57575758,  7.87878788,  8.18181818,  8.48484848,  8.78787879,\n",
              "        9.09090909,  9.39393939,  9.6969697 , 10.        , 10.3030303 ,\n",
              "       10.60606061, 10.90909091, 11.21212121, 11.51515152, 11.81818182,\n",
              "       12.12121212, 12.42424242, 12.72727273, 13.03030303, 13.33333333,\n",
              "       13.63636364, 13.93939394, 14.24242424, 14.54545455, 14.84848485,\n",
              "       15.15151515, 15.45454545, 15.75757576, 16.06060606, 16.36363636,\n",
              "       16.66666667, 16.96969697, 17.27272727, 17.57575758, 17.87878788,\n",
              "       18.18181818, 18.48484848, 18.78787879, 19.09090909, 19.39393939,\n",
              "       19.6969697 , 20.        , 20.3030303 , 20.60606061, 20.90909091,\n",
              "       21.21212121, 21.51515152, 21.81818182, 22.12121212, 22.42424242,\n",
              "       22.72727273, 23.03030303, 23.33333333, 23.63636364, 23.93939394,\n",
              "       24.24242424, 24.54545455, 24.84848485, 25.15151515, 25.45454545,\n",
              "       25.75757576, 26.06060606, 26.36363636, 26.66666667, 26.96969697,\n",
              "       27.27272727, 27.57575758, 27.87878788, 28.18181818, 28.48484848,\n",
              "       28.78787879, 29.09090909, 29.39393939, 29.6969697 , 30.        ])"
            ]
          },
          "metadata": {},
          "execution_count": 77
        }
      ]
    },
    {
      "cell_type": "markdown",
      "source": [
        "# Random Functions"
      ],
      "metadata": {
        "id": "6X1xkLRCoSnC"
      }
    },
    {
      "cell_type": "code",
      "source": [
        "print(np.random.random(10)) #Random Array (rand function is same)\n",
        "print(np.random.randint(1,10)) #Random integer\n"
      ],
      "metadata": {
        "colab": {
          "base_uri": "https://localhost:8080/"
        },
        "id": "hOTh380VoVPl",
        "outputId": "b1e6f00d-204d-4669-cb94-99a1f00f8f00"
      },
      "execution_count": null,
      "outputs": [
        {
          "output_type": "stream",
          "name": "stdout",
          "text": [
            "[0.5538212  0.76348293 0.75037092 0.85799397 0.33347628 0.69869741\n",
            " 0.18926434 0.65467354 0.35853354 0.00779086]\n",
            "9\n"
          ]
        }
      ]
    }
  ]
}