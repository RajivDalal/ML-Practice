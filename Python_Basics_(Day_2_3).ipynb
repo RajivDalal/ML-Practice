{
  "nbformat": 4,
  "nbformat_minor": 0,
  "metadata": {
    "colab": {
      "provenance": [],
      "authorship_tag": "ABX9TyO5b2ad4zb/uZYepql7UPGg",
      "include_colab_link": true
    },
    "kernelspec": {
      "name": "python3",
      "display_name": "Python 3"
    },
    "language_info": {
      "name": "python"
    }
  },
  "cells": [
    {
      "cell_type": "markdown",
      "metadata": {
        "id": "view-in-github",
        "colab_type": "text"
      },
      "source": [
        "<a href=\"https://colab.research.google.com/github/RajivDalal/ML_practice/blob/main/Python_Basics_(Day_2_3).ipynb\" target=\"_parent\"><img src=\"https://colab.research.google.com/assets/colab-badge.svg\" alt=\"Open In Colab\"/></a>"
      ]
    },
    {
      "cell_type": "markdown",
      "source": [
        "# Python libraries & flameworks\n",
        "- Numpy:-\n",
        "  - Numerical Computations & Array manipulations\n",
        "- Pandas:-\n",
        "  - Built on top of Numpy\n",
        "  - Data structures\n",
        "  - Data cleaning and transforming\n",
        "- Matplotlib:-\n",
        "  - Plotting functions\n",
        "- Seaborn:-\n",
        "  - Matplotlib enhanced\n",
        "- Tensorflow:-\n",
        "  - Developed by Google\n",
        "  - Build and train Neural Networks\n",
        "- Keras:-\n",
        "  - Framework on Tensorflow\n",
        "  - Used for Deep Learning and\n",
        "- Flask:-\n",
        "  - Web Applications (Backend)\n",
        "\n",
        "```python\n",
        "print(\"Hello world\")\n",
        "```"
      ],
      "metadata": {
        "id": "W-mFBqXK_KYM"
      }
    },
    {
      "cell_type": "markdown",
      "source": [
        "# Print statements"
      ],
      "metadata": {
        "id": "CAXxYgk1DB2h"
      }
    },
    {
      "cell_type": "code",
      "source": [
        "print(\"Hello world\")"
      ],
      "metadata": {
        "colab": {
          "base_uri": "https://localhost:8080/"
        },
        "id": "vnmZ34pxBeLU",
        "outputId": "92344882-e468-4e4d-ea27-b58d48224a19"
      },
      "execution_count": null,
      "outputs": [
        {
          "output_type": "stream",
          "name": "stdout",
          "text": [
            "Hello world\n"
          ]
        }
      ]
    },
    {
      "cell_type": "markdown",
      "source": [
        "# String Formatting"
      ],
      "metadata": {
        "id": "S7q2bZysDNhB"
      }
    },
    {
      "cell_type": "code",
      "source": [
        "name = \"Raju\"\n",
        "age = 20\n",
        "print(\"Name:{}, Age:{}\".format(name,age))"
      ],
      "metadata": {
        "colab": {
          "base_uri": "https://localhost:8080/"
        },
        "id": "dERmh0LaC1Pg",
        "outputId": "11288b03-9711-43f2-ec50-f10562b71875"
      },
      "execution_count": null,
      "outputs": [
        {
          "output_type": "stream",
          "name": "stdout",
          "text": [
            "Name:Raju, Age:20\n"
          ]
        }
      ]
    },
    {
      "cell_type": "code",
      "source": [
        "print(\"Ram\",\"Lakshman\",\"Bharat\",\"Shatrughn\",sep=\",\",end=\"\")"
      ],
      "metadata": {
        "colab": {
          "base_uri": "https://localhost:8080/"
        },
        "id": "AhJj2eQ_EzSI",
        "outputId": "12c3d7e9-e1ae-48c5-f7bc-1ca30b66342f"
      },
      "execution_count": null,
      "outputs": [
        {
          "output_type": "stream",
          "name": "stdout",
          "text": [
            "Ram,Lakshman,Bharat,Shatrughn"
          ]
        }
      ]
    },
    {
      "cell_type": "markdown",
      "source": [
        "# Data types\n",
        "- Int\n",
        "- Float\n",
        "- Bool\n"
      ],
      "metadata": {
        "id": "s6T9AbjFFTBt"
      }
    },
    {
      "cell_type": "code",
      "source": [
        "a = 100\n",
        "b = 10.5\n",
        "c = True\n",
        "\n",
        "print(type(a),type(b),type(c),sep=\",\",end=\"\")"
      ],
      "metadata": {
        "colab": {
          "base_uri": "https://localhost:8080/"
        },
        "id": "GnKLRhydFZ40",
        "outputId": "980257be-90d1-4e71-979d-3ce2680f5f0a"
      },
      "execution_count": null,
      "outputs": [
        {
          "output_type": "stream",
          "name": "stdout",
          "text": [
            "<class 'int'>,<class 'float'>,<class 'bool'>"
          ]
        }
      ]
    },
    {
      "cell_type": "markdown",
      "source": [
        "# Operators\n",
        "- Arithmentic: +,-,*,//,%,**\n",
        "- Relational: ==,<,>,<=,>=,!=\n",
        "- Membership: in"
      ],
      "metadata": {
        "id": "64tSvSDgF_pH"
      }
    },
    {
      "cell_type": "markdown",
      "source": [
        "# List\n"
      ],
      "metadata": {
        "id": "pyUeZPhGGtns"
      }
    },
    {
      "cell_type": "code",
      "source": [
        "lst = [\"Rajiv\",20,13.5,True]\n",
        "print(lst)\n",
        "print(len(lst)) #Length\n",
        "print(lst[1]) #nth element\n",
        "print(lst[-1]) #last element\n",
        "lst[2] = \"a\"\n",
        "print(lst)"
      ],
      "metadata": {
        "colab": {
          "base_uri": "https://localhost:8080/"
        },
        "id": "o1XbMfJHG8Bs",
        "outputId": "b5adf06a-13d2-4678-cb8f-c93a5ffe43b4"
      },
      "execution_count": null,
      "outputs": [
        {
          "output_type": "stream",
          "name": "stdout",
          "text": [
            "['Rajiv', 20, 13.5, True]\n",
            "4\n",
            "20\n",
            "True\n",
            "['Rajiv', 20, 'a', True]\n"
          ]
        }
      ]
    },
    {
      "cell_type": "code",
      "source": [
        "#Slicing: Access a range of values from the list\n",
        "\n",
        "lst[1:3] #[included:excluded]\n",
        "lst[2:]"
      ],
      "metadata": {
        "colab": {
          "base_uri": "https://localhost:8080/"
        },
        "id": "4A1Z0EWxHtUB",
        "outputId": "7517ddd3-05b8-4b21-9eee-272828b5317c"
      },
      "execution_count": null,
      "outputs": [
        {
          "output_type": "execute_result",
          "data": {
            "text/plain": [
              "['a', True]"
            ]
          },
          "metadata": {},
          "execution_count": 7
        }
      ]
    },
    {
      "cell_type": "code",
      "source": [
        "#Reversing list\n",
        "lst[::-1]"
      ],
      "metadata": {
        "colab": {
          "base_uri": "https://localhost:8080/"
        },
        "id": "3ammGthVH1_u",
        "outputId": "bfdd2040-980e-4df6-d9e7-6642b3296462"
      },
      "execution_count": null,
      "outputs": [
        {
          "output_type": "execute_result",
          "data": {
            "text/plain": [
              "[True, 'a', 20, 'Rajiv']"
            ]
          },
          "metadata": {},
          "execution_count": 8
        }
      ]
    },
    {
      "cell_type": "code",
      "source": [
        "#Modifying list\n",
        "lst.append(\"abc\")\n",
        "print(lst)\n",
        "lst.insert(1,\"Rizwan\")\n",
        "print(lst)\n",
        "lst.remove(\"abc\")\n",
        "print(lst)\n",
        "lst.pop()\n",
        "print(lst)\n",
        "lst.clear()\n",
        "print(lst)"
      ],
      "metadata": {
        "colab": {
          "base_uri": "https://localhost:8080/"
        },
        "id": "nFjB65cCIWaj",
        "outputId": "bcf78fa7-0b01-4fb5-deeb-8859232f1560"
      },
      "execution_count": null,
      "outputs": [
        {
          "output_type": "stream",
          "name": "stdout",
          "text": [
            "['Rajiv', 20, 'a', True, 'Rizwan', 'Rizwan', 'abc']\n",
            "['Rajiv', 'Rizwan', 20, 'a', True, 'Rizwan', 'Rizwan', 'abc']\n",
            "['Rajiv', 'Rizwan', 20, 'a', True, 'Rizwan', 'Rizwan']\n",
            "['Rajiv', 'Rizwan', 20, 'a', True, 'Rizwan']\n",
            "[]\n"
          ]
        }
      ]
    },
    {
      "cell_type": "markdown",
      "source": [
        "# Tuples\n",
        "- Immutable ordered collection of elements"
      ],
      "metadata": {
        "id": "dIyYbbLPrNvr"
      }
    },
    {
      "cell_type": "code",
      "execution_count": null,
      "metadata": {
        "colab": {
          "base_uri": "https://localhost:8080/"
        },
        "id": "NRy_j5jWFTNb",
        "outputId": "8b694084-0bc7-4a3b-a4aa-56202212ead4"
      },
      "outputs": [
        {
          "output_type": "stream",
          "name": "stdout",
          "text": [
            "<class 'tuple'>\n"
          ]
        }
      ],
      "source": [
        "tup = (\"Rajiv\", \"Vadodara\",25)\n",
        "print(type(tup))"
      ]
    },
    {
      "cell_type": "code",
      "source": [
        "#Length\n",
        "print(len(tup))\n",
        "\n",
        "#Indexing\n",
        "print(tup[0])\n",
        "\n",
        "#Slicing\n",
        "print(tup[1:3])\n",
        "\n",
        "#Deleting\n",
        "del(tup)"
      ],
      "metadata": {
        "colab": {
          "base_uri": "https://localhost:8080/"
        },
        "id": "fSebrC24GcHi",
        "outputId": "e54a6fb7-51d0-4799-c580-e4f5b1de428c"
      },
      "execution_count": null,
      "outputs": [
        {
          "output_type": "stream",
          "name": "stdout",
          "text": [
            "3\n",
            "Rajiv\n",
            "('Vadodara', 25)\n"
          ]
        }
      ]
    },
    {
      "cell_type": "code",
      "source": [
        "tup = (2,4,6,1,5,3)\n",
        "\n",
        "#Sorting (Sort function doesn't work)\n",
        "y = sorted(tup)\n",
        "print(y) #Converts to list\n",
        "tup = tuple(y)\n",
        "print(tup)"
      ],
      "metadata": {
        "colab": {
          "base_uri": "https://localhost:8080/"
        },
        "id": "QuQABVSCHPDM",
        "outputId": "01c6663f-c0b9-4b70-b50d-6845f319c8c3"
      },
      "execution_count": null,
      "outputs": [
        {
          "output_type": "stream",
          "name": "stdout",
          "text": [
            "[1, 2, 3, 4, 5, 6]\n",
            "(1, 2, 3, 4, 5, 6)\n"
          ]
        }
      ]
    },
    {
      "cell_type": "markdown",
      "source": [
        "# Sets\n",
        "- Unordered collection\n",
        "- Cannot be indexed"
      ],
      "metadata": {
        "id": "5edzVrlOHtL2"
      }
    },
    {
      "cell_type": "code",
      "source": [
        "a = {1,2,3,4,5}\n",
        "print(a)\n",
        "print(type(a))"
      ],
      "metadata": {
        "colab": {
          "base_uri": "https://localhost:8080/"
        },
        "id": "Tv0PpfcdHvm6",
        "outputId": "75660651-2798-4b3d-b66a-567c57d6a492"
      },
      "execution_count": null,
      "outputs": [
        {
          "output_type": "stream",
          "name": "stdout",
          "text": [
            "{1, 2, 3, 4, 5}\n",
            "<class 'set'>\n"
          ]
        }
      ]
    },
    {
      "cell_type": "code",
      "source": [
        "#Inserting elements\n",
        "a.add(6)\n",
        "print(a)\n",
        "\n",
        "#Deleting elements\n",
        "a.remove(5)\n",
        "print(a)\n",
        "\n",
        "a.clear()\n",
        "print(a)"
      ],
      "metadata": {
        "colab": {
          "base_uri": "https://localhost:8080/"
        },
        "id": "f-RsE8IIIN17",
        "outputId": "27464380-3d74-4400-cdad-2818acc33ae6"
      },
      "execution_count": null,
      "outputs": [
        {
          "output_type": "stream",
          "name": "stdout",
          "text": [
            "{1, 2, 3, 4, 5, 6}\n",
            "{1, 2, 3, 4, 6}\n",
            "set()\n"
          ]
        }
      ]
    },
    {
      "cell_type": "code",
      "source": [
        "set1 = {1,2,3}\n",
        "set2 = {2,3,4}\n",
        "\n",
        "print(set1-set2)\n",
        "print(set2-set1)\n"
      ],
      "metadata": {
        "colab": {
          "base_uri": "https://localhost:8080/"
        },
        "id": "0jr_hlqlIf9r",
        "outputId": "1bbe4d36-0d7a-45da-abf7-85b7d222b2e9"
      },
      "execution_count": null,
      "outputs": [
        {
          "output_type": "stream",
          "name": "stdout",
          "text": [
            "{1}\n",
            "{4}\n"
          ]
        }
      ]
    },
    {
      "cell_type": "markdown",
      "source": [
        "# Dictionary\n",
        "- Key value pairs"
      ],
      "metadata": {
        "id": "FwRoZXOXI4Ma"
      }
    },
    {
      "cell_type": "code",
      "source": [
        "dic = {\"name\":\"Rajiv\", \"age\":20}\n",
        "print(dic)\n",
        "print(type(dic))\n",
        "print(dic[\"name\"])"
      ],
      "metadata": {
        "colab": {
          "base_uri": "https://localhost:8080/"
        },
        "id": "uG6Qj_AhI-xQ",
        "outputId": "4a7268ee-b0b6-4c87-a430-3809ea5641fe"
      },
      "execution_count": null,
      "outputs": [
        {
          "output_type": "stream",
          "name": "stdout",
          "text": [
            "{'name': 'Rajiv', 'age': 20}\n",
            "<class 'dict'>\n",
            "Rajiv\n"
          ]
        }
      ]
    },
    {
      "cell_type": "code",
      "source": [
        "#Update dictionary\n",
        "dic[\"age\"] = 40\n",
        "print(dic)"
      ],
      "metadata": {
        "colab": {
          "base_uri": "https://localhost:8080/"
        },
        "id": "qwjwzYyvJJvn",
        "outputId": "61a74aaa-8f20-42d8-fbfb-22df65eb705c"
      },
      "execution_count": null,
      "outputs": [
        {
          "output_type": "stream",
          "name": "stdout",
          "text": [
            "{'name': 'Rajiv', 'age': 40}\n"
          ]
        }
      ]
    },
    {
      "cell_type": "code",
      "source": [
        "#Update keys\n",
        "dic[\"Exp\"] = dic.pop('age')\n",
        "print(dic)"
      ],
      "metadata": {
        "colab": {
          "base_uri": "https://localhost:8080/"
        },
        "id": "YtId9wtkJa0l",
        "outputId": "63d1a514-c7df-4fd6-9cc1-6236f9f0ccb5"
      },
      "execution_count": null,
      "outputs": [
        {
          "output_type": "stream",
          "name": "stdout",
          "text": [
            "{'name': 'Rajiv', 'Exp': 40}\n"
          ]
        }
      ]
    },
    {
      "cell_type": "code",
      "source": [
        "#Useful functions\n",
        "print(dic.items())\n",
        "print(dic.keys())\n",
        "print(dic.values())\n",
        "print(len(dic))"
      ],
      "metadata": {
        "colab": {
          "base_uri": "https://localhost:8080/"
        },
        "id": "I5OYLlq1JxCW",
        "outputId": "7834b353-9a6b-4f36-84b1-1031168014d2"
      },
      "execution_count": null,
      "outputs": [
        {
          "output_type": "stream",
          "name": "stdout",
          "text": [
            "dict_items([('b', 2), ('c', 3)])\n",
            "dict_keys(['b', 'c'])\n",
            "dict_values([2, 3])\n",
            "2\n"
          ]
        }
      ]
    },
    {
      "cell_type": "code",
      "source": [
        "dic = {\"a\":1,\"b\":2,\"c\":3}\n",
        "dic.pop('a')\n",
        "print(dic)\n",
        "\n",
        "dic[\"d\"] = 4\n",
        "dic[\"e\"] = 5\n",
        "print(dic)"
      ],
      "metadata": {
        "colab": {
          "base_uri": "https://localhost:8080/"
        },
        "id": "5RjajfVRKCf8",
        "outputId": "496148db-e3e2-4ff6-bcac-230259366b81"
      },
      "execution_count": null,
      "outputs": [
        {
          "output_type": "stream",
          "name": "stdout",
          "text": [
            "{'b': 2, 'c': 3}\n",
            "{'b': 2, 'c': 3, 'd': 4, 'e': 5}\n"
          ]
        }
      ]
    },
    {
      "cell_type": "markdown",
      "source": [
        "# Input"
      ],
      "metadata": {
        "id": "OHrCy2BrLai0"
      }
    },
    {
      "cell_type": "code",
      "source": [
        "a = int(input(\"Enter a number\"))\n",
        "b = float(input(\"Enter a decimal\"))\n",
        "print(a,b)"
      ],
      "metadata": {
        "colab": {
          "base_uri": "https://localhost:8080/"
        },
        "id": "i5sFOKWFLeQZ",
        "outputId": "85d7cfa9-6ab3-4e29-c4a7-74473390b893"
      },
      "execution_count": null,
      "outputs": [
        {
          "output_type": "stream",
          "name": "stdout",
          "text": [
            "Enter a number5\n",
            "Enter a decimal10\n",
            "5 10.0\n"
          ]
        }
      ]
    },
    {
      "cell_type": "markdown",
      "source": [
        "# Statements\n",
        "- If\n",
        "- If else\n",
        "- If elif\n",
        "- Nested if else"
      ],
      "metadata": {
        "id": "8xofmTIPLJiC"
      }
    },
    {
      "cell_type": "markdown",
      "source": [
        "# Loops\n",
        "- For loop\n",
        "- While loop\n"
      ],
      "metadata": {
        "id": "ScQTYjNkME6u"
      }
    },
    {
      "cell_type": "code",
      "source": [
        "lst = [\"Rajiv\",\"a\",10.5,69]\n",
        "for i in lst:\n",
        "  print(i)\n",
        "print(\"\\n\")\n",
        "for i in range(1,10):\n",
        "  print(i,end=\" \")"
      ],
      "metadata": {
        "colab": {
          "base_uri": "https://localhost:8080/"
        },
        "id": "6CeVvQI1MMm-",
        "outputId": "d4d97869-fcc9-48f7-d1a0-bf9c111adfbd"
      },
      "execution_count": null,
      "outputs": [
        {
          "output_type": "stream",
          "name": "stdout",
          "text": [
            "Rajiv\n",
            "a\n",
            "10.5\n",
            "69\n",
            "\n",
            "\n",
            "1 2 3 4 5 6 7 8 9 "
          ]
        }
      ]
    },
    {
      "cell_type": "code",
      "source": [
        "i = 0\n",
        "\n",
        "while i<=5:\n",
        "  i+=1\n",
        "  if(i==2):\n",
        "    continue\n",
        "  print(i)\n",
        "\n"
      ],
      "metadata": {
        "colab": {
          "base_uri": "https://localhost:8080/"
        },
        "id": "MBgIXg-sMXNO",
        "outputId": "586b8f0a-724e-4f3a-90b7-9973cf982f5c"
      },
      "execution_count": null,
      "outputs": [
        {
          "output_type": "stream",
          "name": "stdout",
          "text": [
            "1\n",
            "3\n",
            "4\n",
            "5\n",
            "6\n"
          ]
        }
      ]
    },
    {
      "cell_type": "markdown",
      "source": [
        "# Functions"
      ],
      "metadata": {
        "id": "7rzB7nD2M-5C"
      }
    },
    {
      "cell_type": "code",
      "source": [
        "def greeting(name):\n",
        "  print(\"Hello \"+name)\n",
        "\n",
        "#Calling a function\n",
        "greeting(\"Rajiv\")"
      ],
      "metadata": {
        "colab": {
          "base_uri": "https://localhost:8080/"
        },
        "id": "HiiIu_jtODW8",
        "outputId": "8a7c35f3-5db0-416f-fe4c-c7f62082c7da"
      },
      "execution_count": null,
      "outputs": [
        {
          "output_type": "stream",
          "name": "stdout",
          "text": [
            "Hello Rajiv\n"
          ]
        }
      ]
    },
    {
      "cell_type": "markdown",
      "source": [
        "# Lambda Functions\n",
        "- lambda args: expression"
      ],
      "metadata": {
        "id": "O2GSicGmPA4b"
      }
    },
    {
      "cell_type": "code",
      "source": [
        "x = lambda a:a+10\n",
        "print(x(20))\n",
        "\n",
        "y = lambda a,b: a+b\n",
        "print(y(2,5))"
      ],
      "metadata": {
        "colab": {
          "base_uri": "https://localhost:8080/"
        },
        "id": "w3226pn7PDXJ",
        "outputId": "b291296d-0edf-4e34-d339-93bd39155b6b"
      },
      "execution_count": null,
      "outputs": [
        {
          "output_type": "stream",
          "name": "stdout",
          "text": [
            "30\n",
            "7\n"
          ]
        }
      ]
    }
  ]
}